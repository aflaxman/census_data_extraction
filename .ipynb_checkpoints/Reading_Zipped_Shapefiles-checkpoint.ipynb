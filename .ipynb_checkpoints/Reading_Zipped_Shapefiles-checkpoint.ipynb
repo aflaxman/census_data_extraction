{
 "cells": [
  {
   "cell_type": "code",
   "execution_count": 53,
   "metadata": {
    "collapsed": false
   },
   "outputs": [],
   "source": [
    "from urllib2 import urlopen\n",
    "from zipfile import ZipFile\n",
    "from StringIO import StringIO\n",
    "import shapefile\n",
    "import geopandas as gpd\n",
    "from shapely.geometry import shape  \n",
    "import osr\n",
    "import pandas as pd\n",
    "import requests\n",
    "%matplotlib inline"
   ]
  },
  {
   "cell_type": "markdown",
   "metadata": {},
   "source": [
    "\n",
    "\n",
    "Reading zipped file from cloud to a pyshp object\n",
    "http://geospatialpython.com/2011/09/reading-shapefiles-from-cloud.html\n",
    "\n",
    "Pyshp objects to shapely geometries\n",
    "https://github.com/mlaloux/PyShp-as-Fiona--with-geo_interface-\n"
   ]
  },
  {
   "cell_type": "markdown",
   "metadata": {},
   "source": [
    "Shapefiles are probably the most commonly used vector geospatial data format. However, because a single Shapefile consists of multiple files (at least 3 and up to 15) they are often transferred as a single zip file. In this post I demonstrate how to read a zipped shapefile from a server into a GeoPandas GeoDataFrame (with coordinate reference system information), all in memory. \n",
    "\n",
    "In writing this function, I adapted, compiled, and supplemented code from two different sources:\n",
    "1. [This](http://geospatialpython.com/2011/09/reading-shapefiles-from-cloud.html) blog post that demonstrates how to read a zipped Shapefile into a ```PyShp``` object\n",
    "2. And [this](https://github.com/mlaloux/PyShp-as-Fiona--with-geo_interface-) post that demonstrates how to pull the geometry and attribute information from a ```PyShp``` object\n",
    "\n",
    "I then demonstrate use of this function on reading in U.S. County geographic boundaries from the Census FTP site.\n",
    "\n",
    "The first step is to use ```PyShp``` to read in our Shapefile. If we were just reading a Shapefile from disk we would simply call: \n",
    "\n",
    "```\n",
    "r = shapefile.Reader(\"myshp.shp\")\n",
    "```\n",
    "\n",
    "However, because we are reading our Shapefile from a zipfile, we will need to specify the individual components of this file. "
   ]
  },
  {
   "cell_type": "markdown",
   "metadata": {},
   "source": [
    "We can't read a zipfile into Python and process the contents directly from the URL. While we could have Python download the file to disk and then read it in from there, I want to demonstrate how it can be done all in memory without any disk activity. Therefore we need to take an additional step where the data from the URL is read into a ```StringIO``` object, which is in turn read by Python as a zip file. The ```StringIO``` object is just an intermediate data type between the data read in from the URL and the zip file in Python. This is done in one line of code below:"
   ]
  },
  {
   "cell_type": "code",
   "execution_count": 19,
   "metadata": {
    "collapsed": false
   },
   "outputs": [],
   "source": [
    "zipped_county_file = 'http://www2.census.gov/geo/tiger/GENZ2015/shp/cb_2015_us_county_500k.zip'\n",
    "\n",
    "\n",
    "zipfile = ZipFile(StringIO(urlopen(zipped_county_file).read()))"
   ]
  },
  {
   "cell_type": "markdown",
   "metadata": {},
   "source": [
    "Now this zipfile object can be treated as any other zipfile that was read in from disk. Below I identify the filenames of the 4 necessary components of the Shapefile. Note that the ```prj``` file is actually not 100% necessary, but in contains the coordinate reference system information which is really nice to have."
   ]
  },
  {
   "cell_type": "code",
   "execution_count": 22,
   "metadata": {
    "collapsed": false
   },
   "outputs": [
    {
     "name": "stdout",
     "output_type": "stream",
     "text": [
      "['cb_2015_us_county_500k.dbf', 'cb_2015_us_county_500k.prj', 'cb_2015_us_county_500k.shp', 'cb_2015_us_county_500k.shx']\n"
     ]
    }
   ],
   "source": [
    "filenames = [y for y in sorted(zipfile.namelist()) for ending in ['dbf', 'prj', 'shp', 'shx'] if y.endswith(ending)] \n",
    "print filenames"
   ]
  },
  {
   "cell_type": "markdown",
   "metadata": {},
   "source": [
    "Next, I create variables for these 4 files. Once again, because I am not reading them to the disk, I need to have these files as ```StringIO``` objects so that they can be passed to the shapefile reader in memory. And now I have a ```PyShp``` reader object that was read in directly from a server. Note that ```PyShp``` reader objects do not store coordinate reference information, which is why the ```prj``` file was not used. However, that will come into play later.\n",
    "\n",
    "The ```PyShp``` reader object stores all of the geographic information and attributes that from the Shapefile. Below I print the number of records, showing that there are 3,233 counties in the U.S."
   ]
  },
  {
   "cell_type": "code",
   "execution_count": 35,
   "metadata": {
    "collapsed": false
   },
   "outputs": [
    {
     "name": "stdout",
     "output_type": "stream",
     "text": [
      "3233\n"
     ]
    }
   ],
   "source": [
    "dbf, prj, shp, shx = [StringIO(zipfile.read(filename)) for filename in filenames]\n",
    "\n",
    "r = shapefile.Reader(shp=shp, shx=shx, dbf=dbf)\n",
    "print r.numRecords"
   ]
  },
  {
   "cell_type": "markdown",
   "metadata": {},
   "source": [
    "Now I will extract the all of the data from the ```PyShp``` reader object and put it in a form that is more useful for me. I create two empty lists - one that will store the attributes and one that will store the geometry. However, as I loop through each record, I need to put the data in a form that can be read by GeoPandas. For the geometry this will be a list of ```shapely``` geometry objects and for the attributes this will be a list of dictionaries containing field names and field values.\n",
    "\n",
    "The latter is relatively straightforward, but extracting the geometry is a bit more complicated and I again need to use an intermediate data structure. Each record's geometry has a ```__geo_interface__``` property which is just a standardized way of interfacing with geographic data in Python. The interface returns data as GeoJSON, which is compatible with most other libraries, including ```shapely``` which I use below to call ```shape``` on the GeoJSON object. Below I print an example of the GeoJSON before it is read into ```shapely```\n",
    "\n"
   ]
  },
  {
   "cell_type": "code",
   "execution_count": 46,
   "metadata": {
    "collapsed": false
   },
   "outputs": [
    {
     "name": "stdout",
     "output_type": "stream",
     "text": [
      "{'type': 'Polygon', 'coordinates': (((-101.629396, 34.750056), (-101.628055, 34.831755), (-101.627886, 34.84239), (-101.627507, 34.865974), (-101.627861, 34.875054999999996), (-101.626376, 34.929653), (-101.625989, 34.971753), (-101.625853, 34.985783), (-101.62516, 34.993724), (-101.625011, 35.015087), (-101.622941, 35.183116999999996), (-101.615379, 35.183239), (-101.61403, 35.183157), (-101.611241, 35.183232), (-101.37586, 35.182066), (-101.328954, 35.182009), (-101.311473, 35.182072), (-101.182259, 35.181708), (-101.086281, 35.18214), (-101.086739, 35.136099), (-101.086875, 35.080059), (-101.087278, 35.027079), (-101.088474, 34.957916), (-101.089331, 34.875052), (-101.089237, 34.874243), (-101.090753, 34.749809), (-101.090749, 34.748246), (-101.199931, 34.747704), (-101.279481, 34.748267), (-101.385871, 34.748377), (-101.434904, 34.74742), (-101.471562, 34.747462), (-101.629257, 34.747648999999996), (-101.629396, 34.750056)),)}\n"
     ]
    }
   ],
   "source": [
    "attributes, geometry = [], []\n",
    "field_names = [field[0] for field in r.fields[1:]]  \n",
    "for sr in r.shapeRecords():  \n",
    "    geometry.append(shape(sr.shape.__geo_interface__))  \n",
    "    attributes.append(dict(zip(field_names, sr.record)))  \n",
    "    \n",
    "print sr.shape.__geo_interface__"
   ]
  },
  {
   "cell_type": "code",
   "execution_count": 47,
   "metadata": {
    "collapsed": false
   },
   "outputs": [
    {
     "name": "stdout",
     "output_type": "stream",
     "text": [
      "+proj=longlat +ellps=GRS80 +no_defs \n"
     ]
    }
   ],
   "source": [
    "proj4 = osr.SpatialReference(prj.read()).ExportToProj4()\n",
    "print proj4"
   ]
  },
  {
   "cell_type": "code",
   "execution_count": 49,
   "metadata": {
    "collapsed": false
   },
   "outputs": [
    {
     "data": {
      "text/html": [
       "<div>\n",
       "<table border=\"1\" class=\"dataframe\">\n",
       "  <thead>\n",
       "    <tr style=\"text-align: right;\">\n",
       "      <th></th>\n",
       "      <th>AFFGEOID</th>\n",
       "      <th>ALAND</th>\n",
       "      <th>AWATER</th>\n",
       "      <th>COUNTYFP</th>\n",
       "      <th>COUNTYNS</th>\n",
       "      <th>GEOID</th>\n",
       "      <th>LSAD</th>\n",
       "      <th>NAME</th>\n",
       "      <th>STATEFP</th>\n",
       "      <th>geometry</th>\n",
       "    </tr>\n",
       "  </thead>\n",
       "  <tbody>\n",
       "    <tr>\n",
       "      <th>0</th>\n",
       "      <td>0500000US01005</td>\n",
       "      <td>2291820706</td>\n",
       "      <td>50864677</td>\n",
       "      <td>005</td>\n",
       "      <td>00161528</td>\n",
       "      <td>01005</td>\n",
       "      <td>06</td>\n",
       "      <td>Barbour</td>\n",
       "      <td>01</td>\n",
       "      <td>POLYGON ((-85.748032 31.619181, -85.745435 31....</td>\n",
       "    </tr>\n",
       "    <tr>\n",
       "      <th>1</th>\n",
       "      <td>0500000US01023</td>\n",
       "      <td>2365954971</td>\n",
       "      <td>19059247</td>\n",
       "      <td>023</td>\n",
       "      <td>00161537</td>\n",
       "      <td>01023</td>\n",
       "      <td>06</td>\n",
       "      <td>Choctaw</td>\n",
       "      <td>01</td>\n",
       "      <td>POLYGON ((-88.47322699999999 31.893856, -88.46...</td>\n",
       "    </tr>\n",
       "    <tr>\n",
       "      <th>2</th>\n",
       "      <td>0500000US01035</td>\n",
       "      <td>2201896058</td>\n",
       "      <td>6643480</td>\n",
       "      <td>035</td>\n",
       "      <td>00161543</td>\n",
       "      <td>01035</td>\n",
       "      <td>06</td>\n",
       "      <td>Conecuh</td>\n",
       "      <td>01</td>\n",
       "      <td>POLYGON ((-87.42720399999999 31.26436, -87.425...</td>\n",
       "    </tr>\n",
       "    <tr>\n",
       "      <th>3</th>\n",
       "      <td>0500000US01051</td>\n",
       "      <td>1601876535</td>\n",
       "      <td>99850740</td>\n",
       "      <td>051</td>\n",
       "      <td>00161551</td>\n",
       "      <td>01051</td>\n",
       "      <td>06</td>\n",
       "      <td>Elmore</td>\n",
       "      <td>01</td>\n",
       "      <td>POLYGON ((-86.41333499999999 32.750591, -86.37...</td>\n",
       "    </tr>\n",
       "    <tr>\n",
       "      <th>4</th>\n",
       "      <td>0500000US01065</td>\n",
       "      <td>1667804583</td>\n",
       "      <td>32525874</td>\n",
       "      <td>065</td>\n",
       "      <td>00161558</td>\n",
       "      <td>01065</td>\n",
       "      <td>06</td>\n",
       "      <td>Hale</td>\n",
       "      <td>01</td>\n",
       "      <td>POLYGON ((-87.870464 32.762442, -87.868184 32....</td>\n",
       "    </tr>\n",
       "  </tbody>\n",
       "</table>\n",
       "</div>"
      ],
      "text/plain": [
       "         AFFGEOID       ALAND    AWATER COUNTYFP  COUNTYNS  GEOID LSAD  \\\n",
       "0  0500000US01005  2291820706  50864677      005  00161528  01005   06   \n",
       "1  0500000US01023  2365954971  19059247      023  00161537  01023   06   \n",
       "2  0500000US01035  2201896058   6643480      035  00161543  01035   06   \n",
       "3  0500000US01051  1601876535  99850740      051  00161551  01051   06   \n",
       "4  0500000US01065  1667804583  32525874      065  00161558  01065   06   \n",
       "\n",
       "      NAME STATEFP                                           geometry  \n",
       "0  Barbour      01  POLYGON ((-85.748032 31.619181, -85.745435 31....  \n",
       "1  Choctaw      01  POLYGON ((-88.47322699999999 31.893856, -88.46...  \n",
       "2  Conecuh      01  POLYGON ((-87.42720399999999 31.26436, -87.425...  \n",
       "3   Elmore      01  POLYGON ((-86.41333499999999 32.750591, -86.37...  \n",
       "4     Hale      01  POLYGON ((-87.870464 32.762442, -87.868184 32....  "
      ]
     },
     "execution_count": 49,
     "metadata": {},
     "output_type": "execute_result"
    }
   ],
   "source": [
    "gdf = gpd.GeoDataFrame(data = attributes, geometry = geometry, crs = proj4)\n",
    "gdf.head()"
   ]
  },
  {
   "cell_type": "code",
   "execution_count": 55,
   "metadata": {
    "collapsed": false
   },
   "outputs": [
    {
     "data": {
      "text/plain": [
       "<matplotlib.axes._subplots.AxesSubplot at 0x2bc86af0>"
      ]
     },
     "execution_count": 55,
     "metadata": {},
     "output_type": "execute_result"
    },
    {
     "data": {
      "image/png": "[encoded data removed]",
      "text/plain": [
       "<matplotlib.figure.Figure at 0x2bdde5d0>"
      ]
     },
     "metadata": {},
     "output_type": "display_data"
    }
   ],
   "source": [
    "nj = gdf[gdf.STATEFP=='34'].to_crs(epsg = 3424)\n",
    "nj.plot(color = 'white')"
   ]
  },
  {
   "cell_type": "code",
   "execution_count": null,
   "metadata": {
    "collapsed": true
   },
   "outputs": [],
   "source": [
    "\n",
    "def zip_shp_to_gdf(zip_file_name):\n",
    "\n",
    "    cloudfile = urllib2.urlopen(zip_file_name)\n",
    "    memoryfile = StringIO.StringIO(cloudfile.read())\n",
    "    zipshape = zipfile.ZipFile(memoryfile)\n",
    "    \n",
    "    filenames = [y for y in sorted(zipshape.namelist()) for ending in ['dbf', 'prj', 'shp', 'shx'] if y.endswith(ending)] \n",
    "    dbf, prj, shp, shx = [StringIO.StringIO(zipshape.read(filename)) for filename in filenames]\n",
    "    \n",
    "    reader = shapefile.Reader(shp=shp, shx=shx, dbf=dbf)\n",
    "    \n",
    "    proj4 = osr.SpatialReference(prj.read()).ExportToProj4()\n",
    "    \n",
    "        \n",
    "    atts, shapes = [], []\n",
    "    field_names = [field[0] for field in reader.fields[1:]]  \n",
    "    for sr in reader.shapeRecords():  \n",
    "        shapely_geo = shape(sr.shape.__geo_interface__)  \n",
    "        att = dict(zip(field_names, sr.record))  \n",
    "        atts.append(att)\n",
    "        shapes.append(shapely_geo)\n",
    "    \n",
    "    gdf = gpd.GeoDataFrame(data = atts, geometry = shapes, crs = proj4)\n",
    "    return gdf\n"
   ]
  }
 ],
 "metadata": {
  "kernelspec": {
   "display_name": "Python 2",
   "language": "python",
   "name": "python2"
  },
  "language_info": {
   "codemirror_mode": {
    "name": "ipython",
    "version": 2
   },
   "file_extension": ".py",
   "mimetype": "text/x-python",
   "name": "python",
   "nbconvert_exporter": "python",
   "pygments_lexer": "ipython2",
   "version": "2.7.13"
  }
 },
 "nbformat": 4,
 "nbformat_minor": 2
}
